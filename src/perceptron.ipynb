{
 "cells": [
  {
   "cell_type": "markdown",
   "metadata": {},
   "source": [
    "# Perceptron classifier"
   ]
  },
  {
   "cell_type": "code",
   "execution_count": 1,
   "metadata": {
    "collapsed": false,
    "hide_input": false
   },
   "outputs": [
    {
     "name": "stdout",
     "output_type": "stream",
     "text": [
      "Loading data from ../data/mnist_seven.csv...\n",
      "Data loaded.\n"
     ]
    }
   ],
   "source": [
    "from sklearn.metrics import accuracy_score\n",
    "\n",
    "from data.mnist_seven import MNISTSeven\n",
    "from model.stupid_recognizer import StupidRecognizer\n",
    "from model.perceptron import Perceptron\n",
    "from report.evaluator import Evaluator\n",
    "\n",
    "data = MNISTSeven(\"../data/mnist_seven.csv\", 3000, 1000, 1000)\n",
    "\n",
    "def evaluate_perceptron(learning_rate, num_epochs, use_bias=True):\n",
    "    myPerceptronClassifier = Perceptron(data.trainingSet,\n",
    "                                        data.validationSet,\n",
    "                                        data.testSet,\n",
    "                                        learningRate=learning_rate,\n",
    "                                        epochs=num_epochs)\n",
    "    if not use_bias:\n",
    "        myPerceptronClassifier.use_bias = False\n",
    "    myPerceptronClassifier.train()\n",
    "    perceptronPred = myPerceptronClassifier.evaluate()\n",
    "    accuracy = accuracy_score(data.testSet.label, perceptronPred)*100\n",
    "    print 'Bias:', myPerceptronClassifier.bias\n",
    "    return accuracy"
   ]
  },
  {
   "cell_type": "code",
   "execution_count": 2,
   "metadata": {
    "collapsed": false
   },
   "outputs": [
    {
     "name": "stdout",
     "output_type": "stream",
     "text": [
      "Using Bias:\n",
      "Loading data from ../data/mnist_seven.csv...\n",
      "Data loaded.\n",
      "Bias: -0.145\n",
      "97.8\n",
      "Loading data from ../data/mnist_seven.csv...\n",
      "Data loaded.\n",
      "Bias: -0.145\n",
      "96.8\n",
      "Loading data from ../data/mnist_seven.csv...\n",
      "Data loaded.\n",
      "Bias: -0.14\n",
      "96.8\n",
      "Loading data from ../data/mnist_seven.csv...\n",
      "Data loaded.\n",
      "Bias: -0.135\n",
      "97.0\n",
      "Loading data from ../data/mnist_seven.csv...\n",
      "Data loaded.\n",
      "Bias: -0.135\n",
      "97.1\n",
      "Loading data from ../data/mnist_seven.csv...\n",
      "Data loaded.\n",
      "Bias: -0.15\n",
      "97.5\n",
      "Loading data from ../data/mnist_seven.csv...\n",
      "Data loaded.\n",
      "Bias: -0.145\n",
      "97.2\n",
      "Loading data from ../data/mnist_seven.csv...\n",
      "Data loaded.\n",
      "Bias: -0.135\n",
      "97.3\n",
      "Loading data from ../data/mnist_seven.csv...\n",
      "Data loaded.\n",
      "Bias: -0.135\n",
      "97.0\n",
      "Loading data from ../data/mnist_seven.csv...\n",
      "Data loaded.\n",
      "Bias: -0.125\n",
      "96.9\n",
      "Result: 97.14\n",
      "Not using Bias:\n",
      "Loading data from ../data/mnist_seven.csv...\n",
      "Data loaded.\n",
      "Bias: 0.0\n",
      "97.4\n",
      "Loading data from ../data/mnist_seven.csv...\n",
      "Data loaded.\n",
      "Bias: 0.0\n",
      "97.1\n",
      "Loading data from ../data/mnist_seven.csv...\n",
      "Data loaded.\n",
      "Bias: 0.0\n",
      "97.2\n",
      "Loading data from ../data/mnist_seven.csv...\n",
      "Data loaded.\n",
      "Bias: 0.0\n",
      "97.2\n",
      "Loading data from ../data/mnist_seven.csv...\n",
      "Data loaded.\n",
      "Bias: 0.0\n",
      "96.9\n",
      "Loading data from ../data/mnist_seven.csv...\n",
      "Data loaded.\n",
      "Bias: 0.0\n",
      "97.1\n",
      "Loading data from ../data/mnist_seven.csv...\n",
      "Data loaded.\n",
      "Bias: 0.0\n",
      "97.0\n",
      "Loading data from ../data/mnist_seven.csv...\n",
      "Data loaded.\n",
      "Bias: 0.0\n",
      "97.1\n",
      "Loading data from ../data/mnist_seven.csv...\n",
      "Data loaded.\n",
      "Bias: 0.0\n",
      "96.8\n",
      "Loading data from ../data/mnist_seven.csv...\n",
      "Data loaded.\n",
      "Bias: 0.0\n",
      "97.1\n",
      "Result: 97.09\n"
     ]
    }
   ],
   "source": [
    "learning_rate = 0.005\n",
    "num_epochs = 30\n",
    "\n",
    "def avg_10(use_bias=True):\n",
    "    s = 0\n",
    "    for i in range(10):\n",
    "        data = MNISTSeven(\"../data/mnist_seven.csv\", 3000, 1000, 1000)\n",
    "        e = evaluate_perceptron(learning_rate, num_epochs, use_bias)\n",
    "        s += e\n",
    "        print e\n",
    "    print \"Result:\", s/10\n",
    "    \n",
    "print \"Using Bias:\"\n",
    "avg_10()\n",
    "\n",
    "print \"Not using Bias:\"\n",
    "avg_10(use_bias=False)"
   ]
  },
  {
   "cell_type": "markdown",
   "metadata": {},
   "source": [
    "## Learning rate\n",
    "\n",
    "The figure below shows the achieved accuracy depending on the number of epochs for different learning rates."
   ]
  },
  {
   "cell_type": "code",
   "execution_count": null,
   "metadata": {
    "collapsed": false,
    "hide_input": false
   },
   "outputs": [],
   "source": [
    "%matplotlib inline\n",
    "from matplotlib import pyplot as plt\n",
    "\n",
    "a_values = (0.001, 0.0001, 0.00001, 0.000005)\n",
    "x = list(range(1, 16))\n",
    "for a in a_values:\n",
    "    y = [evaluate_perceptron(a, xi) for xi in x]\n",
    "    plt.plot(x, y, label=\"learing rate {}\".format(a))\n",
    "plt.legend()\n",
    "plt.title(\"Perceptron classifier\")\n",
    "plt.xlabel('Number of epochs')\n",
    "plt.ylabel('Accuracy (%)')\n",
    "plt.show()"
   ]
  },
  {
   "cell_type": "markdown",
   "metadata": {},
   "source": [
    "## Weight vector\n",
    "\n",
    "The image below shows a visual representation of the weight vector of the classifier after it has been trained. "
   ]
  },
  {
   "cell_type": "code",
   "execution_count": null,
   "metadata": {
    "collapsed": false,
    "hide_input": true
   },
   "outputs": [],
   "source": [
    "import numpy as np\n",
    "myPerceptronClassifier = Perceptron(data.trainingSet,\n",
    "                                        data.validationSet,\n",
    "                                        data.testSet,\n",
    "                                        learningRate=0.001,\n",
    "                                        epochs=20)\n",
    "myPerceptronClassifier.train()\n",
    "\n",
    "im = np.reshape(myPerceptronClassifier.weight[1:], (-1, 28))\n",
    "\n",
    "import matplotlib.pyplot as plt\n",
    "\n",
    "plt.imshow(im, cmap='seismic')\n",
    "plt.colorbar()\n",
    "plt.title('Bias: {:.3f}'.format(myPerceptronClassifier.weight[0]))\n",
    "\n",
    "plt.show()"
   ]
  },
  {
   "cell_type": "markdown",
   "metadata": {},
   "source": [
    "## Evaluation"
   ]
  },
  {
   "cell_type": "code",
   "execution_count": null,
   "metadata": {
    "collapsed": false,
    "hide_input": true,
    "scrolled": false
   },
   "outputs": [],
   "source": [
    "# %matplotlib\n",
    "\n",
    "results = myPerceptronClassifier.evaluate()\n",
    "weights = myPerceptronClassifier.weight\n",
    "all_data = []\n",
    "for i in range(len(data.testSet.label)):\n",
    "    label = data.testSet.label[i]\n",
    "    _input = data.testSet.input[i]\n",
    "    value = np.dot(np.insert(_input, 0, 1), weights)\n",
    "    all_data.append([value, results[i]==label, _input])\n",
    "\n",
    "fig = plt.figure(figsize=(20, 10))\n",
    "all_data.sort(key=lambda x:x[0])\n",
    "\n",
    "plt.subplots_adjust(left=0.05, right=0.95, top=0.95, bottom=0.05)\n",
    "\n",
    "start = 0\n",
    "for i in range(1000):\n",
    "    value, correct, im = all_data[i]\n",
    "    if not correct:\n",
    "        im = 1-im\n",
    "    ax = fig.add_subplot(25, 40, i+1)\n",
    "    if i%40 == 0:\n",
    "        ax.set_ylabel(\"{:.2f}\".format(value), rotation=0, labelpad=20)\n",
    "        ax.xaxis.set_major_locator(plt.NullLocator())\n",
    "        ax.yaxis.set_major_locator(plt.NullLocator())\n",
    "    elif i%40 == 39:\n",
    "        ax.yaxis.set_label_position(\"right\")\n",
    "        ax.set_ylabel(\"{:.2f}\".format(value), rotation=0, labelpad=20)\n",
    "        ax.xaxis.set_major_locator(plt.NullLocator())\n",
    "        ax.yaxis.set_major_locator(plt.NullLocator())\n",
    "    else:\n",
    "        ax.axis('off')\n",
    "    # ax.set_title(\"{:.2f}\".format(value)){:.2f}\".format(value))\n",
    "    im = np.reshape(im, (-1, 28))\n",
    "    if value >=0:\n",
    "        ax.imshow(im, cmap='cool')\n",
    "    else:\n",
    "        ax.imshow(im, cmap='Wistia')\n",
    "plt.show()"
   ]
  }
 ],
 "metadata": {
  "kernelspec": {
   "display_name": "Python 2",
   "language": "python",
   "name": "python2"
  },
  "language_info": {
   "codemirror_mode": {
    "name": "ipython",
    "version": 2
   },
   "file_extension": ".py",
   "mimetype": "text/x-python",
   "name": "python",
   "nbconvert_exporter": "python",
   "pygments_lexer": "ipython2",
   "version": "2.7.13"
  }
 },
 "nbformat": 4,
 "nbformat_minor": 0
}
